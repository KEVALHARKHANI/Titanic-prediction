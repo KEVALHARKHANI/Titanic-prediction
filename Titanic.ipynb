{
  "nbformat": 4,
  "nbformat_minor": 0,
  "metadata": {
    "colab": {
      "name": "Titanic.ipynb",
      "provenance": [],
      "collapsed_sections": []
    },
    "kernelspec": {
      "name": "python3",
      "display_name": "Python 3"
    },
    "language_info": {
      "name": "python"
    }
  },
  "cells": [
    {
      "cell_type": "code",
      "metadata": {
        "id": "Y9QyqETHa4tk"
      },
      "source": [
        "import pandas as pd\n",
        "import numpy as np"
      ],
      "execution_count": 1,
      "outputs": []
    },
    {
      "cell_type": "markdown",
      "metadata": {
        "id": "1gf8MKUdEG0j"
      },
      "source": [
        "# New Section"
      ]
    },
    {
      "cell_type": "code",
      "metadata": {
        "id": "NKMIb5rXrLx_"
      },
      "source": [
        "df_train = pd.read_csv('train.csv')\n",
        "df_test = pd.read_csv('test.csv')"
      ],
      "execution_count": 2,
      "outputs": []
    },
    {
      "cell_type": "code",
      "metadata": {
        "colab": {
          "base_uri": "https://localhost:8080/",
          "height": 340
        },
        "id": "Mvlgc4FHBtPb",
        "outputId": "15a3b922-f3dd-4339-bf8b-3683d934763c"
      },
      "source": [
        "df_train.head()"
      ],
      "execution_count": 3,
      "outputs": [
        {
          "output_type": "execute_result",
          "data": {
            "text/html": [
              "<div>\n",
              "<style scoped>\n",
              "    .dataframe tbody tr th:only-of-type {\n",
              "        vertical-align: middle;\n",
              "    }\n",
              "\n",
              "    .dataframe tbody tr th {\n",
              "        vertical-align: top;\n",
              "    }\n",
              "\n",
              "    .dataframe thead th {\n",
              "        text-align: right;\n",
              "    }\n",
              "</style>\n",
              "<table border=\"1\" class=\"dataframe\">\n",
              "  <thead>\n",
              "    <tr style=\"text-align: right;\">\n",
              "      <th></th>\n",
              "      <th>PassengerId</th>\n",
              "      <th>Survived</th>\n",
              "      <th>Pclass</th>\n",
              "      <th>Name</th>\n",
              "      <th>Sex</th>\n",
              "      <th>Age</th>\n",
              "      <th>SibSp</th>\n",
              "      <th>Parch</th>\n",
              "      <th>Ticket</th>\n",
              "      <th>Fare</th>\n",
              "      <th>Cabin</th>\n",
              "      <th>Embarked</th>\n",
              "    </tr>\n",
              "  </thead>\n",
              "  <tbody>\n",
              "    <tr>\n",
              "      <th>0</th>\n",
              "      <td>1</td>\n",
              "      <td>0</td>\n",
              "      <td>3</td>\n",
              "      <td>Braund, Mr. Owen Harris</td>\n",
              "      <td>male</td>\n",
              "      <td>22.0</td>\n",
              "      <td>1</td>\n",
              "      <td>0</td>\n",
              "      <td>A/5 21171</td>\n",
              "      <td>7.2500</td>\n",
              "      <td>NaN</td>\n",
              "      <td>S</td>\n",
              "    </tr>\n",
              "    <tr>\n",
              "      <th>1</th>\n",
              "      <td>2</td>\n",
              "      <td>1</td>\n",
              "      <td>1</td>\n",
              "      <td>Cumings, Mrs. John Bradley (Florence Briggs Th...</td>\n",
              "      <td>female</td>\n",
              "      <td>38.0</td>\n",
              "      <td>1</td>\n",
              "      <td>0</td>\n",
              "      <td>PC 17599</td>\n",
              "      <td>71.2833</td>\n",
              "      <td>C85</td>\n",
              "      <td>C</td>\n",
              "    </tr>\n",
              "    <tr>\n",
              "      <th>2</th>\n",
              "      <td>3</td>\n",
              "      <td>1</td>\n",
              "      <td>3</td>\n",
              "      <td>Heikkinen, Miss. Laina</td>\n",
              "      <td>female</td>\n",
              "      <td>26.0</td>\n",
              "      <td>0</td>\n",
              "      <td>0</td>\n",
              "      <td>STON/O2. 3101282</td>\n",
              "      <td>7.9250</td>\n",
              "      <td>NaN</td>\n",
              "      <td>S</td>\n",
              "    </tr>\n",
              "    <tr>\n",
              "      <th>3</th>\n",
              "      <td>4</td>\n",
              "      <td>1</td>\n",
              "      <td>1</td>\n",
              "      <td>Futrelle, Mrs. Jacques Heath (Lily May Peel)</td>\n",
              "      <td>female</td>\n",
              "      <td>35.0</td>\n",
              "      <td>1</td>\n",
              "      <td>0</td>\n",
              "      <td>113803</td>\n",
              "      <td>53.1000</td>\n",
              "      <td>C123</td>\n",
              "      <td>S</td>\n",
              "    </tr>\n",
              "    <tr>\n",
              "      <th>4</th>\n",
              "      <td>5</td>\n",
              "      <td>0</td>\n",
              "      <td>3</td>\n",
              "      <td>Allen, Mr. William Henry</td>\n",
              "      <td>male</td>\n",
              "      <td>35.0</td>\n",
              "      <td>0</td>\n",
              "      <td>0</td>\n",
              "      <td>373450</td>\n",
              "      <td>8.0500</td>\n",
              "      <td>NaN</td>\n",
              "      <td>S</td>\n",
              "    </tr>\n",
              "  </tbody>\n",
              "</table>\n",
              "</div>"
            ],
            "text/plain": [
              "   PassengerId  Survived  Pclass  ...     Fare Cabin  Embarked\n",
              "0            1         0       3  ...   7.2500   NaN         S\n",
              "1            2         1       1  ...  71.2833   C85         C\n",
              "2            3         1       3  ...   7.9250   NaN         S\n",
              "3            4         1       1  ...  53.1000  C123         S\n",
              "4            5         0       3  ...   8.0500   NaN         S\n",
              "\n",
              "[5 rows x 12 columns]"
            ]
          },
          "metadata": {},
          "execution_count": 3
        }
      ]
    },
    {
      "cell_type": "markdown",
      "metadata": {
        "id": "dwspx_y9B-zR"
      },
      "source": [
        "Name has prefix tag so we can use it to create new varible."
      ]
    },
    {
      "cell_type": "code",
      "metadata": {
        "id": "_P5iSLaKrsMw"
      },
      "source": [
        "title = []\n",
        "for i in df_train['Name']:\n",
        "    title.append(((((i).split(','))[1]).split('.'))[0].strip())\n",
        "df_train['title'] = title\n",
        "\n",
        "test_title = []\n",
        "for i in df_test['Name']:\n",
        "    test_title.append(((((i).split(','))[1]).split('.'))[0].strip())\n",
        "df_test['title'] = test_title"
      ],
      "execution_count": 4,
      "outputs": []
    },
    {
      "cell_type": "code",
      "metadata": {
        "colab": {
          "base_uri": "https://localhost:8080/",
          "height": 607
        },
        "id": "2DaTYfoZvbJC",
        "outputId": "a64e1f47-4215-48d0-c340-0cbf3f1799ee"
      },
      "source": [
        "pd.crosstab(df_train['title'],df_train['Sex'])"
      ],
      "execution_count": 5,
      "outputs": [
        {
          "output_type": "execute_result",
          "data": {
            "text/html": [
              "<div>\n",
              "<style scoped>\n",
              "    .dataframe tbody tr th:only-of-type {\n",
              "        vertical-align: middle;\n",
              "    }\n",
              "\n",
              "    .dataframe tbody tr th {\n",
              "        vertical-align: top;\n",
              "    }\n",
              "\n",
              "    .dataframe thead th {\n",
              "        text-align: right;\n",
              "    }\n",
              "</style>\n",
              "<table border=\"1\" class=\"dataframe\">\n",
              "  <thead>\n",
              "    <tr style=\"text-align: right;\">\n",
              "      <th>Sex</th>\n",
              "      <th>female</th>\n",
              "      <th>male</th>\n",
              "    </tr>\n",
              "    <tr>\n",
              "      <th>title</th>\n",
              "      <th></th>\n",
              "      <th></th>\n",
              "    </tr>\n",
              "  </thead>\n",
              "  <tbody>\n",
              "    <tr>\n",
              "      <th>Capt</th>\n",
              "      <td>0</td>\n",
              "      <td>1</td>\n",
              "    </tr>\n",
              "    <tr>\n",
              "      <th>Col</th>\n",
              "      <td>0</td>\n",
              "      <td>2</td>\n",
              "    </tr>\n",
              "    <tr>\n",
              "      <th>Don</th>\n",
              "      <td>0</td>\n",
              "      <td>1</td>\n",
              "    </tr>\n",
              "    <tr>\n",
              "      <th>Dr</th>\n",
              "      <td>1</td>\n",
              "      <td>6</td>\n",
              "    </tr>\n",
              "    <tr>\n",
              "      <th>Jonkheer</th>\n",
              "      <td>0</td>\n",
              "      <td>1</td>\n",
              "    </tr>\n",
              "    <tr>\n",
              "      <th>Lady</th>\n",
              "      <td>1</td>\n",
              "      <td>0</td>\n",
              "    </tr>\n",
              "    <tr>\n",
              "      <th>Major</th>\n",
              "      <td>0</td>\n",
              "      <td>2</td>\n",
              "    </tr>\n",
              "    <tr>\n",
              "      <th>Master</th>\n",
              "      <td>0</td>\n",
              "      <td>40</td>\n",
              "    </tr>\n",
              "    <tr>\n",
              "      <th>Miss</th>\n",
              "      <td>182</td>\n",
              "      <td>0</td>\n",
              "    </tr>\n",
              "    <tr>\n",
              "      <th>Mlle</th>\n",
              "      <td>2</td>\n",
              "      <td>0</td>\n",
              "    </tr>\n",
              "    <tr>\n",
              "      <th>Mme</th>\n",
              "      <td>1</td>\n",
              "      <td>0</td>\n",
              "    </tr>\n",
              "    <tr>\n",
              "      <th>Mr</th>\n",
              "      <td>0</td>\n",
              "      <td>517</td>\n",
              "    </tr>\n",
              "    <tr>\n",
              "      <th>Mrs</th>\n",
              "      <td>125</td>\n",
              "      <td>0</td>\n",
              "    </tr>\n",
              "    <tr>\n",
              "      <th>Ms</th>\n",
              "      <td>1</td>\n",
              "      <td>0</td>\n",
              "    </tr>\n",
              "    <tr>\n",
              "      <th>Rev</th>\n",
              "      <td>0</td>\n",
              "      <td>6</td>\n",
              "    </tr>\n",
              "    <tr>\n",
              "      <th>Sir</th>\n",
              "      <td>0</td>\n",
              "      <td>1</td>\n",
              "    </tr>\n",
              "    <tr>\n",
              "      <th>the Countess</th>\n",
              "      <td>1</td>\n",
              "      <td>0</td>\n",
              "    </tr>\n",
              "  </tbody>\n",
              "</table>\n",
              "</div>"
            ],
            "text/plain": [
              "Sex           female  male\n",
              "title                     \n",
              "Capt               0     1\n",
              "Col                0     2\n",
              "Don                0     1\n",
              "Dr                 1     6\n",
              "Jonkheer           0     1\n",
              "Lady               1     0\n",
              "Major              0     2\n",
              "Master             0    40\n",
              "Miss             182     0\n",
              "Mlle               2     0\n",
              "Mme                1     0\n",
              "Mr                 0   517\n",
              "Mrs              125     0\n",
              "Ms                 1     0\n",
              "Rev                0     6\n",
              "Sir                0     1\n",
              "the Countess       1     0"
            ]
          },
          "metadata": {},
          "execution_count": 5
        }
      ]
    },
    {
      "cell_type": "markdown",
      "metadata": {
        "id": "_J2tjTbUO96l"
      },
      "source": [
        "As we can see Mrs,Mr,Miss,Master tags has high frequency"
      ]
    },
    {
      "cell_type": "code",
      "metadata": {
        "id": "PwCdwubj2_ec"
      },
      "source": [
        "main = ['Mrs','Mr','Miss','Master']\n",
        "for i in range(len(title)):\n",
        "  if title[i] not in main:\n",
        "    title[i] = 'Extra'\n",
        "df_train['title'] = title\n",
        "\n",
        "for i in range(len(test_title)):\n",
        "  if test_title[i] not in main:\n",
        "    test_title[i] = 'Extra'\n",
        "df_test['title'] = test_title\n"
      ],
      "execution_count": 6,
      "outputs": []
    },
    {
      "cell_type": "code",
      "metadata": {
        "colab": {
          "base_uri": "https://localhost:8080/"
        },
        "id": "VWyOJ6hJrf65",
        "outputId": "b794cab2-1868-444b-df22-252d824116b8"
      },
      "source": [
        "df_train.info()\n",
        "print('--'*40)\n",
        "df_test.info()"
      ],
      "execution_count": 7,
      "outputs": [
        {
          "output_type": "stream",
          "name": "stdout",
          "text": [
            "<class 'pandas.core.frame.DataFrame'>\n",
            "RangeIndex: 891 entries, 0 to 890\n",
            "Data columns (total 13 columns):\n",
            " #   Column       Non-Null Count  Dtype  \n",
            "---  ------       --------------  -----  \n",
            " 0   PassengerId  891 non-null    int64  \n",
            " 1   Survived     891 non-null    int64  \n",
            " 2   Pclass       891 non-null    int64  \n",
            " 3   Name         891 non-null    object \n",
            " 4   Sex          891 non-null    object \n",
            " 5   Age          714 non-null    float64\n",
            " 6   SibSp        891 non-null    int64  \n",
            " 7   Parch        891 non-null    int64  \n",
            " 8   Ticket       891 non-null    object \n",
            " 9   Fare         891 non-null    float64\n",
            " 10  Cabin        204 non-null    object \n",
            " 11  Embarked     889 non-null    object \n",
            " 12  title        891 non-null    object \n",
            "dtypes: float64(2), int64(5), object(6)\n",
            "memory usage: 90.6+ KB\n",
            "--------------------------------------------------------------------------------\n",
            "<class 'pandas.core.frame.DataFrame'>\n",
            "RangeIndex: 418 entries, 0 to 417\n",
            "Data columns (total 12 columns):\n",
            " #   Column       Non-Null Count  Dtype  \n",
            "---  ------       --------------  -----  \n",
            " 0   PassengerId  418 non-null    int64  \n",
            " 1   Pclass       418 non-null    int64  \n",
            " 2   Name         418 non-null    object \n",
            " 3   Sex          418 non-null    object \n",
            " 4   Age          332 non-null    float64\n",
            " 5   SibSp        418 non-null    int64  \n",
            " 6   Parch        418 non-null    int64  \n",
            " 7   Ticket       418 non-null    object \n",
            " 8   Fare         417 non-null    float64\n",
            " 9   Cabin        91 non-null     object \n",
            " 10  Embarked     418 non-null    object \n",
            " 11  title        418 non-null    object \n",
            "dtypes: float64(2), int64(4), object(6)\n",
            "memory usage: 39.3+ KB\n"
          ]
        }
      ]
    },
    {
      "cell_type": "code",
      "metadata": {
        "colab": {
          "base_uri": "https://localhost:8080/",
          "height": 173
        },
        "id": "FKn5DwMFg891",
        "outputId": "74e1e951-1d66-4975-fa1e-35313cfa9d99"
      },
      "source": [
        "df_train.describe(include=['O'])"
      ],
      "execution_count": 8,
      "outputs": [
        {
          "output_type": "execute_result",
          "data": {
            "text/html": [
              "<div>\n",
              "<style scoped>\n",
              "    .dataframe tbody tr th:only-of-type {\n",
              "        vertical-align: middle;\n",
              "    }\n",
              "\n",
              "    .dataframe tbody tr th {\n",
              "        vertical-align: top;\n",
              "    }\n",
              "\n",
              "    .dataframe thead th {\n",
              "        text-align: right;\n",
              "    }\n",
              "</style>\n",
              "<table border=\"1\" class=\"dataframe\">\n",
              "  <thead>\n",
              "    <tr style=\"text-align: right;\">\n",
              "      <th></th>\n",
              "      <th>Name</th>\n",
              "      <th>Sex</th>\n",
              "      <th>Ticket</th>\n",
              "      <th>Cabin</th>\n",
              "      <th>Embarked</th>\n",
              "      <th>title</th>\n",
              "    </tr>\n",
              "  </thead>\n",
              "  <tbody>\n",
              "    <tr>\n",
              "      <th>count</th>\n",
              "      <td>891</td>\n",
              "      <td>891</td>\n",
              "      <td>891</td>\n",
              "      <td>204</td>\n",
              "      <td>889</td>\n",
              "      <td>891</td>\n",
              "    </tr>\n",
              "    <tr>\n",
              "      <th>unique</th>\n",
              "      <td>891</td>\n",
              "      <td>2</td>\n",
              "      <td>681</td>\n",
              "      <td>147</td>\n",
              "      <td>3</td>\n",
              "      <td>5</td>\n",
              "    </tr>\n",
              "    <tr>\n",
              "      <th>top</th>\n",
              "      <td>Hickman, Mr. Stanley George</td>\n",
              "      <td>male</td>\n",
              "      <td>347082</td>\n",
              "      <td>G6</td>\n",
              "      <td>S</td>\n",
              "      <td>Mr</td>\n",
              "    </tr>\n",
              "    <tr>\n",
              "      <th>freq</th>\n",
              "      <td>1</td>\n",
              "      <td>577</td>\n",
              "      <td>7</td>\n",
              "      <td>4</td>\n",
              "      <td>644</td>\n",
              "      <td>517</td>\n",
              "    </tr>\n",
              "  </tbody>\n",
              "</table>\n",
              "</div>"
            ],
            "text/plain": [
              "                               Name   Sex  Ticket Cabin Embarked title\n",
              "count                           891   891     891   204      889   891\n",
              "unique                          891     2     681   147        3     5\n",
              "top     Hickman, Mr. Stanley George  male  347082    G6        S    Mr\n",
              "freq                              1   577       7     4      644   517"
            ]
          },
          "metadata": {},
          "execution_count": 8
        }
      ]
    },
    {
      "cell_type": "markdown",
      "metadata": {
        "id": "q4mOjLbkhz6R"
      },
      "source": [
        "1. Here we can see 681 unique value in tickets mean it is not catagorial variable.it contain 210 duplicate entry and it is not corelated to survived variable.\n",
        "2. name and passengerId does not related to survived variable \n",
        "3. Cabin has >70% missing values\n",
        "\n",
        "droping those variables"
      ]
    },
    {
      "cell_type": "code",
      "metadata": {
        "id": "lgfNljQPsAXy"
      },
      "source": [
        "df_train.drop(['PassengerId','Name','Cabin','Ticket'],axis=1,inplace=True)\n",
        "df_test.drop(['PassengerId','Name','Cabin','Ticket'],axis=1,inplace=True)"
      ],
      "execution_count": 9,
      "outputs": []
    },
    {
      "cell_type": "code",
      "metadata": {
        "colab": {
          "base_uri": "https://localhost:8080/",
          "height": 204
        },
        "id": "15VU0tAJ8lQI",
        "outputId": "308e9206-0a95-4152-eb5f-6824225de17b"
      },
      "source": [
        "df_train.head()"
      ],
      "execution_count": 10,
      "outputs": [
        {
          "output_type": "execute_result",
          "data": {
            "text/html": [
              "<div>\n",
              "<style scoped>\n",
              "    .dataframe tbody tr th:only-of-type {\n",
              "        vertical-align: middle;\n",
              "    }\n",
              "\n",
              "    .dataframe tbody tr th {\n",
              "        vertical-align: top;\n",
              "    }\n",
              "\n",
              "    .dataframe thead th {\n",
              "        text-align: right;\n",
              "    }\n",
              "</style>\n",
              "<table border=\"1\" class=\"dataframe\">\n",
              "  <thead>\n",
              "    <tr style=\"text-align: right;\">\n",
              "      <th></th>\n",
              "      <th>Survived</th>\n",
              "      <th>Pclass</th>\n",
              "      <th>Sex</th>\n",
              "      <th>Age</th>\n",
              "      <th>SibSp</th>\n",
              "      <th>Parch</th>\n",
              "      <th>Fare</th>\n",
              "      <th>Embarked</th>\n",
              "      <th>title</th>\n",
              "    </tr>\n",
              "  </thead>\n",
              "  <tbody>\n",
              "    <tr>\n",
              "      <th>0</th>\n",
              "      <td>0</td>\n",
              "      <td>3</td>\n",
              "      <td>male</td>\n",
              "      <td>22.0</td>\n",
              "      <td>1</td>\n",
              "      <td>0</td>\n",
              "      <td>7.2500</td>\n",
              "      <td>S</td>\n",
              "      <td>Mr</td>\n",
              "    </tr>\n",
              "    <tr>\n",
              "      <th>1</th>\n",
              "      <td>1</td>\n",
              "      <td>1</td>\n",
              "      <td>female</td>\n",
              "      <td>38.0</td>\n",
              "      <td>1</td>\n",
              "      <td>0</td>\n",
              "      <td>71.2833</td>\n",
              "      <td>C</td>\n",
              "      <td>Mrs</td>\n",
              "    </tr>\n",
              "    <tr>\n",
              "      <th>2</th>\n",
              "      <td>1</td>\n",
              "      <td>3</td>\n",
              "      <td>female</td>\n",
              "      <td>26.0</td>\n",
              "      <td>0</td>\n",
              "      <td>0</td>\n",
              "      <td>7.9250</td>\n",
              "      <td>S</td>\n",
              "      <td>Miss</td>\n",
              "    </tr>\n",
              "    <tr>\n",
              "      <th>3</th>\n",
              "      <td>1</td>\n",
              "      <td>1</td>\n",
              "      <td>female</td>\n",
              "      <td>35.0</td>\n",
              "      <td>1</td>\n",
              "      <td>0</td>\n",
              "      <td>53.1000</td>\n",
              "      <td>S</td>\n",
              "      <td>Mrs</td>\n",
              "    </tr>\n",
              "    <tr>\n",
              "      <th>4</th>\n",
              "      <td>0</td>\n",
              "      <td>3</td>\n",
              "      <td>male</td>\n",
              "      <td>35.0</td>\n",
              "      <td>0</td>\n",
              "      <td>0</td>\n",
              "      <td>8.0500</td>\n",
              "      <td>S</td>\n",
              "      <td>Mr</td>\n",
              "    </tr>\n",
              "  </tbody>\n",
              "</table>\n",
              "</div>"
            ],
            "text/plain": [
              "   Survived  Pclass     Sex   Age  SibSp  Parch     Fare Embarked title\n",
              "0         0       3    male  22.0      1      0   7.2500        S    Mr\n",
              "1         1       1  female  38.0      1      0  71.2833        C   Mrs\n",
              "2         1       3  female  26.0      0      0   7.9250        S  Miss\n",
              "3         1       1  female  35.0      1      0  53.1000        S   Mrs\n",
              "4         0       3    male  35.0      0      0   8.0500        S    Mr"
            ]
          },
          "metadata": {},
          "execution_count": 10
        }
      ]
    },
    {
      "cell_type": "code",
      "metadata": {
        "colab": {
          "base_uri": "https://localhost:8080/"
        },
        "id": "oIKFVUMY9DrP",
        "outputId": "d2c4f4ab-f2ab-45ec-e4bc-390c2f9dd7de"
      },
      "source": [
        "df_train.shape"
      ],
      "execution_count": 11,
      "outputs": [
        {
          "output_type": "execute_result",
          "data": {
            "text/plain": [
              "(891, 9)"
            ]
          },
          "metadata": {},
          "execution_count": 11
        }
      ]
    },
    {
      "cell_type": "code",
      "metadata": {
        "id": "VCP2ovKLBcX3",
        "colab": {
          "base_uri": "https://localhost:8080/"
        },
        "outputId": "c1878cc5-43ad-46a3-83e0-3983a7692ccd"
      },
      "source": [
        "df_train['Embarked'].value_counts()"
      ],
      "execution_count": 12,
      "outputs": [
        {
          "output_type": "execute_result",
          "data": {
            "text/plain": [
              "S    644\n",
              "C    168\n",
              "Q     77\n",
              "Name: Embarked, dtype: int64"
            ]
          },
          "metadata": {},
          "execution_count": 12
        }
      ]
    },
    {
      "cell_type": "code",
      "metadata": {
        "id": "xsDAmIB-Y0bE"
      },
      "source": [
        "df_train.fillna(value = {'Age':df_train['Age'].mean(),'Embarked':'S'},inplace=True)\n",
        "df_test.fillna(value = {'Age':df_train['Age'].mean(),'Embarked':'S'},inplace=True)"
      ],
      "execution_count": 13,
      "outputs": []
    },
    {
      "cell_type": "code",
      "metadata": {
        "colab": {
          "base_uri": "https://localhost:8080/"
        },
        "id": "jzHHoP6rcpqN",
        "outputId": "bb4453c5-7dc3-4394-f2ba-0de76f315476"
      },
      "source": [
        "df_train.isnull().sum()"
      ],
      "execution_count": 14,
      "outputs": [
        {
          "output_type": "execute_result",
          "data": {
            "text/plain": [
              "Survived    0\n",
              "Pclass      0\n",
              "Sex         0\n",
              "Age         0\n",
              "SibSp       0\n",
              "Parch       0\n",
              "Fare        0\n",
              "Embarked    0\n",
              "title       0\n",
              "dtype: int64"
            ]
          },
          "metadata": {},
          "execution_count": 14
        }
      ]
    },
    {
      "cell_type": "code",
      "metadata": {
        "colab": {
          "base_uri": "https://localhost:8080/"
        },
        "id": "PIBzlgz9JsOd",
        "outputId": "4afd0af6-f2ac-4caa-fffb-7dd4e193902e"
      },
      "source": [
        "df_train.isna().sum()"
      ],
      "execution_count": 15,
      "outputs": [
        {
          "output_type": "execute_result",
          "data": {
            "text/plain": [
              "Survived    0\n",
              "Pclass      0\n",
              "Sex         0\n",
              "Age         0\n",
              "SibSp       0\n",
              "Parch       0\n",
              "Fare        0\n",
              "Embarked    0\n",
              "title       0\n",
              "dtype: int64"
            ]
          },
          "metadata": {},
          "execution_count": 15
        }
      ]
    },
    {
      "cell_type": "markdown",
      "metadata": {
        "id": "kG5b1dV1tWVx"
      },
      "source": [
        "Removing duplicates"
      ]
    },
    {
      "cell_type": "code",
      "metadata": {
        "id": "cIieHoZECBRC"
      },
      "source": [
        "df_train.drop_duplicates(subset=df_train.columns[1:],inplace=True)"
      ],
      "execution_count": 16,
      "outputs": []
    },
    {
      "cell_type": "code",
      "metadata": {
        "colab": {
          "base_uri": "https://localhost:8080/"
        },
        "id": "rWoriJSg_sWu",
        "outputId": "b14afc32-4011-4da2-98ca-bdf771e302bb"
      },
      "source": [
        "df_train.shape"
      ],
      "execution_count": 17,
      "outputs": [
        {
          "output_type": "execute_result",
          "data": {
            "text/plain": [
              "(772, 9)"
            ]
          },
          "metadata": {},
          "execution_count": 17
        }
      ]
    },
    {
      "cell_type": "code",
      "metadata": {
        "id": "1i6pMqlsAbwQ",
        "colab": {
          "base_uri": "https://localhost:8080/",
          "height": 204
        },
        "outputId": "41ff66d3-7077-4ebb-ed99-0d0a8b8e1341"
      },
      "source": [
        "df_train.head()"
      ],
      "execution_count": 18,
      "outputs": [
        {
          "output_type": "execute_result",
          "data": {
            "text/html": [
              "<div>\n",
              "<style scoped>\n",
              "    .dataframe tbody tr th:only-of-type {\n",
              "        vertical-align: middle;\n",
              "    }\n",
              "\n",
              "    .dataframe tbody tr th {\n",
              "        vertical-align: top;\n",
              "    }\n",
              "\n",
              "    .dataframe thead th {\n",
              "        text-align: right;\n",
              "    }\n",
              "</style>\n",
              "<table border=\"1\" class=\"dataframe\">\n",
              "  <thead>\n",
              "    <tr style=\"text-align: right;\">\n",
              "      <th></th>\n",
              "      <th>Survived</th>\n",
              "      <th>Pclass</th>\n",
              "      <th>Sex</th>\n",
              "      <th>Age</th>\n",
              "      <th>SibSp</th>\n",
              "      <th>Parch</th>\n",
              "      <th>Fare</th>\n",
              "      <th>Embarked</th>\n",
              "      <th>title</th>\n",
              "    </tr>\n",
              "  </thead>\n",
              "  <tbody>\n",
              "    <tr>\n",
              "      <th>0</th>\n",
              "      <td>0</td>\n",
              "      <td>3</td>\n",
              "      <td>male</td>\n",
              "      <td>22.0</td>\n",
              "      <td>1</td>\n",
              "      <td>0</td>\n",
              "      <td>7.2500</td>\n",
              "      <td>S</td>\n",
              "      <td>Mr</td>\n",
              "    </tr>\n",
              "    <tr>\n",
              "      <th>1</th>\n",
              "      <td>1</td>\n",
              "      <td>1</td>\n",
              "      <td>female</td>\n",
              "      <td>38.0</td>\n",
              "      <td>1</td>\n",
              "      <td>0</td>\n",
              "      <td>71.2833</td>\n",
              "      <td>C</td>\n",
              "      <td>Mrs</td>\n",
              "    </tr>\n",
              "    <tr>\n",
              "      <th>2</th>\n",
              "      <td>1</td>\n",
              "      <td>3</td>\n",
              "      <td>female</td>\n",
              "      <td>26.0</td>\n",
              "      <td>0</td>\n",
              "      <td>0</td>\n",
              "      <td>7.9250</td>\n",
              "      <td>S</td>\n",
              "      <td>Miss</td>\n",
              "    </tr>\n",
              "    <tr>\n",
              "      <th>3</th>\n",
              "      <td>1</td>\n",
              "      <td>1</td>\n",
              "      <td>female</td>\n",
              "      <td>35.0</td>\n",
              "      <td>1</td>\n",
              "      <td>0</td>\n",
              "      <td>53.1000</td>\n",
              "      <td>S</td>\n",
              "      <td>Mrs</td>\n",
              "    </tr>\n",
              "    <tr>\n",
              "      <th>4</th>\n",
              "      <td>0</td>\n",
              "      <td>3</td>\n",
              "      <td>male</td>\n",
              "      <td>35.0</td>\n",
              "      <td>0</td>\n",
              "      <td>0</td>\n",
              "      <td>8.0500</td>\n",
              "      <td>S</td>\n",
              "      <td>Mr</td>\n",
              "    </tr>\n",
              "  </tbody>\n",
              "</table>\n",
              "</div>"
            ],
            "text/plain": [
              "   Survived  Pclass     Sex   Age  SibSp  Parch     Fare Embarked title\n",
              "0         0       3    male  22.0      1      0   7.2500        S    Mr\n",
              "1         1       1  female  38.0      1      0  71.2833        C   Mrs\n",
              "2         1       3  female  26.0      0      0   7.9250        S  Miss\n",
              "3         1       1  female  35.0      1      0  53.1000        S   Mrs\n",
              "4         0       3    male  35.0      0      0   8.0500        S    Mr"
            ]
          },
          "metadata": {},
          "execution_count": 18
        }
      ]
    },
    {
      "cell_type": "markdown",
      "metadata": {
        "id": "mnPLxpK3wFsx"
      },
      "source": [
        "here age and fare are not classified so we need to create bins and classsify them"
      ]
    },
    {
      "cell_type": "code",
      "metadata": {
        "id": "MF3GRKrd9OSe",
        "colab": {
          "base_uri": "https://localhost:8080/",
          "height": 297
        },
        "outputId": "55753595-5207-4bfb-ab7b-cd434e205b3f"
      },
      "source": [
        "df_train[['Age','Fare']].describe()"
      ],
      "execution_count": 19,
      "outputs": [
        {
          "output_type": "execute_result",
          "data": {
            "text/html": [
              "<div>\n",
              "<style scoped>\n",
              "    .dataframe tbody tr th:only-of-type {\n",
              "        vertical-align: middle;\n",
              "    }\n",
              "\n",
              "    .dataframe tbody tr th {\n",
              "        vertical-align: top;\n",
              "    }\n",
              "\n",
              "    .dataframe thead th {\n",
              "        text-align: right;\n",
              "    }\n",
              "</style>\n",
              "<table border=\"1\" class=\"dataframe\">\n",
              "  <thead>\n",
              "    <tr style=\"text-align: right;\">\n",
              "      <th></th>\n",
              "      <th>Age</th>\n",
              "      <th>Fare</th>\n",
              "    </tr>\n",
              "  </thead>\n",
              "  <tbody>\n",
              "    <tr>\n",
              "      <th>count</th>\n",
              "      <td>772.000000</td>\n",
              "      <td>772.000000</td>\n",
              "    </tr>\n",
              "    <tr>\n",
              "      <th>mean</th>\n",
              "      <td>29.839418</td>\n",
              "      <td>35.115322</td>\n",
              "    </tr>\n",
              "    <tr>\n",
              "      <th>std</th>\n",
              "      <td>13.754421</td>\n",
              "      <td>52.472196</td>\n",
              "    </tr>\n",
              "    <tr>\n",
              "      <th>min</th>\n",
              "      <td>0.420000</td>\n",
              "      <td>0.000000</td>\n",
              "    </tr>\n",
              "    <tr>\n",
              "      <th>25%</th>\n",
              "      <td>22.000000</td>\n",
              "      <td>8.050000</td>\n",
              "    </tr>\n",
              "    <tr>\n",
              "      <th>50%</th>\n",
              "      <td>29.699118</td>\n",
              "      <td>16.100000</td>\n",
              "    </tr>\n",
              "    <tr>\n",
              "      <th>75%</th>\n",
              "      <td>36.000000</td>\n",
              "      <td>34.375000</td>\n",
              "    </tr>\n",
              "    <tr>\n",
              "      <th>max</th>\n",
              "      <td>80.000000</td>\n",
              "      <td>512.329200</td>\n",
              "    </tr>\n",
              "  </tbody>\n",
              "</table>\n",
              "</div>"
            ],
            "text/plain": [
              "              Age        Fare\n",
              "count  772.000000  772.000000\n",
              "mean    29.839418   35.115322\n",
              "std     13.754421   52.472196\n",
              "min      0.420000    0.000000\n",
              "25%     22.000000    8.050000\n",
              "50%     29.699118   16.100000\n",
              "75%     36.000000   34.375000\n",
              "max     80.000000  512.329200"
            ]
          },
          "metadata": {},
          "execution_count": 19
        }
      ]
    },
    {
      "cell_type": "code",
      "metadata": {
        "colab": {
          "base_uri": "https://localhost:8080/",
          "height": 349
        },
        "id": "4mKq4dkT-WaI",
        "outputId": "56f519d0-6eef-4216-9567-07a84d20915d"
      },
      "source": [
        "import matplotlib.pyplot as plt\n",
        "fig,(axs1,axs2) = plt.subplots(1,2)\n",
        "axs1.set_title('Age')\n",
        "axs1.hist(df_train['Age'])\n",
        "axs2.set_title('Fare')\n",
        "axs2.hist(df_train['Fare'])"
      ],
      "execution_count": 20,
      "outputs": [
        {
          "output_type": "execute_result",
          "data": {
            "text/plain": [
              "(array([621.,  98.,  31.,   2.,  11.,   6.,   0.,   0.,   0.,   3.]),\n",
              " array([  0.     ,  51.23292, 102.46584, 153.69876, 204.93168, 256.1646 ,\n",
              "        307.39752, 358.63044, 409.86336, 461.09628, 512.3292 ]),\n",
              " <a list of 10 Patch objects>)"
            ]
          },
          "metadata": {},
          "execution_count": 20
        },
        {
          "output_type": "display_data",
          "data": {
            "image/png": "[encoded data removed]",
            "text/plain": [
              "<Figure size 432x288 with 2 Axes>"
            ]
          },
          "metadata": {
            "needs_background": "light"
          }
        }
      ]
    },
    {
      "cell_type": "markdown",
      "metadata": {
        "id": "KYYzQPzERNxs"
      },
      "source": [
        "As we can see "
      ]
    },
    {
      "cell_type": "code",
      "metadata": {
        "id": "urtg3YXZyfUq"
      },
      "source": [
        "label = ['Children','Youth','Adults','Seniors']\n",
        "df_train['Age_cat']=pd.cut(df_train['Age'],[0,15,35,55,80],labels=label)\n",
        "df_test['Age_cat']=pd.cut(df_test['Age'],[0,15,35,55,80],labels=label)"
      ],
      "execution_count": 21,
      "outputs": []
    },
    {
      "cell_type": "code",
      "metadata": {
        "colab": {
          "base_uri": "https://localhost:8080/",
          "height": 204
        },
        "id": "E8bJq7ki41YL",
        "outputId": "6510144e-4b6d-4028-ff20-29f42524b1e2"
      },
      "source": [
        "pd.crosstab(df_train['Age_cat'],df_train['Survived'])"
      ],
      "execution_count": 22,
      "outputs": [
        {
          "output_type": "execute_result",
          "data": {
            "text/html": [
              "<div>\n",
              "<style scoped>\n",
              "    .dataframe tbody tr th:only-of-type {\n",
              "        vertical-align: middle;\n",
              "    }\n",
              "\n",
              "    .dataframe tbody tr th {\n",
              "        vertical-align: top;\n",
              "    }\n",
              "\n",
              "    .dataframe thead th {\n",
              "        text-align: right;\n",
              "    }\n",
              "</style>\n",
              "<table border=\"1\" class=\"dataframe\">\n",
              "  <thead>\n",
              "    <tr style=\"text-align: right;\">\n",
              "      <th>Survived</th>\n",
              "      <th>0</th>\n",
              "      <th>1</th>\n",
              "    </tr>\n",
              "    <tr>\n",
              "      <th>Age_cat</th>\n",
              "      <th></th>\n",
              "      <th></th>\n",
              "    </tr>\n",
              "  </thead>\n",
              "  <tbody>\n",
              "    <tr>\n",
              "      <th>Children</th>\n",
              "      <td>34</td>\n",
              "      <td>48</td>\n",
              "    </tr>\n",
              "    <tr>\n",
              "      <th>Youth</th>\n",
              "      <td>286</td>\n",
              "      <td>192</td>\n",
              "    </tr>\n",
              "    <tr>\n",
              "      <th>Adults</th>\n",
              "      <td>103</td>\n",
              "      <td>70</td>\n",
              "    </tr>\n",
              "    <tr>\n",
              "      <th>Seniors</th>\n",
              "      <td>27</td>\n",
              "      <td>12</td>\n",
              "    </tr>\n",
              "  </tbody>\n",
              "</table>\n",
              "</div>"
            ],
            "text/plain": [
              "Survived    0    1\n",
              "Age_cat           \n",
              "Children   34   48\n",
              "Youth     286  192\n",
              "Adults    103   70\n",
              "Seniors    27   12"
            ]
          },
          "metadata": {},
          "execution_count": 22
        }
      ]
    },
    {
      "cell_type": "code",
      "metadata": {
        "id": "LWO7FXTRBoWq"
      },
      "source": [
        "label_fare = ['low','medium','high']\n",
        "df_train['Fare_cat']=pd.cut(df_train['Fare'],[0,15,50,513],labels=label_fare)\n",
        "df_test['Fare_cat']=pd.cut(df_test['Fare'],[0,15,50,513],labels=label_fare)"
      ],
      "execution_count": 23,
      "outputs": []
    },
    {
      "cell_type": "code",
      "metadata": {
        "colab": {
          "base_uri": "https://localhost:8080/",
          "height": 204
        },
        "id": "PLfLk3gUCnfF",
        "outputId": "c6764862-3a19-42ad-9b7a-0ea0021cf5ec"
      },
      "source": [
        "df_train.head()"
      ],
      "execution_count": 24,
      "outputs": [
        {
          "output_type": "execute_result",
          "data": {
            "text/html": [
              "<div>\n",
              "<style scoped>\n",
              "    .dataframe tbody tr th:only-of-type {\n",
              "        vertical-align: middle;\n",
              "    }\n",
              "\n",
              "    .dataframe tbody tr th {\n",
              "        vertical-align: top;\n",
              "    }\n",
              "\n",
              "    .dataframe thead th {\n",
              "        text-align: right;\n",
              "    }\n",
              "</style>\n",
              "<table border=\"1\" class=\"dataframe\">\n",
              "  <thead>\n",
              "    <tr style=\"text-align: right;\">\n",
              "      <th></th>\n",
              "      <th>Survived</th>\n",
              "      <th>Pclass</th>\n",
              "      <th>Sex</th>\n",
              "      <th>Age</th>\n",
              "      <th>SibSp</th>\n",
              "      <th>Parch</th>\n",
              "      <th>Fare</th>\n",
              "      <th>Embarked</th>\n",
              "      <th>title</th>\n",
              "      <th>Age_cat</th>\n",
              "      <th>Fare_cat</th>\n",
              "    </tr>\n",
              "  </thead>\n",
              "  <tbody>\n",
              "    <tr>\n",
              "      <th>0</th>\n",
              "      <td>0</td>\n",
              "      <td>3</td>\n",
              "      <td>male</td>\n",
              "      <td>22.0</td>\n",
              "      <td>1</td>\n",
              "      <td>0</td>\n",
              "      <td>7.2500</td>\n",
              "      <td>S</td>\n",
              "      <td>Mr</td>\n",
              "      <td>Youth</td>\n",
              "      <td>low</td>\n",
              "    </tr>\n",
              "    <tr>\n",
              "      <th>1</th>\n",
              "      <td>1</td>\n",
              "      <td>1</td>\n",
              "      <td>female</td>\n",
              "      <td>38.0</td>\n",
              "      <td>1</td>\n",
              "      <td>0</td>\n",
              "      <td>71.2833</td>\n",
              "      <td>C</td>\n",
              "      <td>Mrs</td>\n",
              "      <td>Adults</td>\n",
              "      <td>high</td>\n",
              "    </tr>\n",
              "    <tr>\n",
              "      <th>2</th>\n",
              "      <td>1</td>\n",
              "      <td>3</td>\n",
              "      <td>female</td>\n",
              "      <td>26.0</td>\n",
              "      <td>0</td>\n",
              "      <td>0</td>\n",
              "      <td>7.9250</td>\n",
              "      <td>S</td>\n",
              "      <td>Miss</td>\n",
              "      <td>Youth</td>\n",
              "      <td>low</td>\n",
              "    </tr>\n",
              "    <tr>\n",
              "      <th>3</th>\n",
              "      <td>1</td>\n",
              "      <td>1</td>\n",
              "      <td>female</td>\n",
              "      <td>35.0</td>\n",
              "      <td>1</td>\n",
              "      <td>0</td>\n",
              "      <td>53.1000</td>\n",
              "      <td>S</td>\n",
              "      <td>Mrs</td>\n",
              "      <td>Youth</td>\n",
              "      <td>high</td>\n",
              "    </tr>\n",
              "    <tr>\n",
              "      <th>4</th>\n",
              "      <td>0</td>\n",
              "      <td>3</td>\n",
              "      <td>male</td>\n",
              "      <td>35.0</td>\n",
              "      <td>0</td>\n",
              "      <td>0</td>\n",
              "      <td>8.0500</td>\n",
              "      <td>S</td>\n",
              "      <td>Mr</td>\n",
              "      <td>Youth</td>\n",
              "      <td>low</td>\n",
              "    </tr>\n",
              "  </tbody>\n",
              "</table>\n",
              "</div>"
            ],
            "text/plain": [
              "   Survived  Pclass     Sex   Age  ...  Embarked  title  Age_cat Fare_cat\n",
              "0         0       3    male  22.0  ...         S     Mr    Youth      low\n",
              "1         1       1  female  38.0  ...         C    Mrs   Adults     high\n",
              "2         1       3  female  26.0  ...         S   Miss    Youth      low\n",
              "3         1       1  female  35.0  ...         S    Mrs    Youth     high\n",
              "4         0       3    male  35.0  ...         S     Mr    Youth      low\n",
              "\n",
              "[5 rows x 11 columns]"
            ]
          },
          "metadata": {},
          "execution_count": 24
        }
      ]
    },
    {
      "cell_type": "code",
      "metadata": {
        "colab": {
          "base_uri": "https://localhost:8080/",
          "height": 173
        },
        "id": "DEoYKmh_C2Dv",
        "outputId": "3d6fac51-2a67-44e3-bbfd-2a2145c38b73"
      },
      "source": [
        "pd.crosstab(df_train['Fare_cat'],df_train['Survived'])"
      ],
      "execution_count": 25,
      "outputs": [
        {
          "output_type": "execute_result",
          "data": {
            "text/html": [
              "<div>\n",
              "<style scoped>\n",
              "    .dataframe tbody tr th:only-of-type {\n",
              "        vertical-align: middle;\n",
              "    }\n",
              "\n",
              "    .dataframe tbody tr th {\n",
              "        vertical-align: top;\n",
              "    }\n",
              "\n",
              "    .dataframe thead th {\n",
              "        text-align: right;\n",
              "    }\n",
              "</style>\n",
              "<table border=\"1\" class=\"dataframe\">\n",
              "  <thead>\n",
              "    <tr style=\"text-align: right;\">\n",
              "      <th>Survived</th>\n",
              "      <th>0</th>\n",
              "      <th>1</th>\n",
              "    </tr>\n",
              "    <tr>\n",
              "      <th>Fare_cat</th>\n",
              "      <th></th>\n",
              "      <th></th>\n",
              "    </tr>\n",
              "  </thead>\n",
              "  <tbody>\n",
              "    <tr>\n",
              "      <th>low</th>\n",
              "      <td>250</td>\n",
              "      <td>101</td>\n",
              "    </tr>\n",
              "    <tr>\n",
              "      <th>medium</th>\n",
              "      <td>146</td>\n",
              "      <td>114</td>\n",
              "    </tr>\n",
              "    <tr>\n",
              "      <th>high</th>\n",
              "      <td>46</td>\n",
              "      <td>106</td>\n",
              "    </tr>\n",
              "  </tbody>\n",
              "</table>\n",
              "</div>"
            ],
            "text/plain": [
              "Survived    0    1\n",
              "Fare_cat          \n",
              "low       250  101\n",
              "medium    146  114\n",
              "high       46  106"
            ]
          },
          "metadata": {},
          "execution_count": 25
        }
      ]
    },
    {
      "cell_type": "code",
      "metadata": {
        "id": "5DysVmP7C_Uu"
      },
      "source": [
        "df_train.drop(['Age','Fare'],axis=1,inplace=True)\n",
        "df_test.drop(['Age','Fare'],axis=1,inplace=True)"
      ],
      "execution_count": 26,
      "outputs": []
    },
    {
      "cell_type": "code",
      "metadata": {
        "colab": {
          "base_uri": "https://localhost:8080/",
          "height": 204
        },
        "id": "j2bSK04HDQOA",
        "outputId": "f3976703-7b1b-470f-b9d8-1fbd5aa343c0"
      },
      "source": [
        "df_train.head()"
      ],
      "execution_count": 27,
      "outputs": [
        {
          "output_type": "execute_result",
          "data": {
            "text/html": [
              "<div>\n",
              "<style scoped>\n",
              "    .dataframe tbody tr th:only-of-type {\n",
              "        vertical-align: middle;\n",
              "    }\n",
              "\n",
              "    .dataframe tbody tr th {\n",
              "        vertical-align: top;\n",
              "    }\n",
              "\n",
              "    .dataframe thead th {\n",
              "        text-align: right;\n",
              "    }\n",
              "</style>\n",
              "<table border=\"1\" class=\"dataframe\">\n",
              "  <thead>\n",
              "    <tr style=\"text-align: right;\">\n",
              "      <th></th>\n",
              "      <th>Survived</th>\n",
              "      <th>Pclass</th>\n",
              "      <th>Sex</th>\n",
              "      <th>SibSp</th>\n",
              "      <th>Parch</th>\n",
              "      <th>Embarked</th>\n",
              "      <th>title</th>\n",
              "      <th>Age_cat</th>\n",
              "      <th>Fare_cat</th>\n",
              "    </tr>\n",
              "  </thead>\n",
              "  <tbody>\n",
              "    <tr>\n",
              "      <th>0</th>\n",
              "      <td>0</td>\n",
              "      <td>3</td>\n",
              "      <td>male</td>\n",
              "      <td>1</td>\n",
              "      <td>0</td>\n",
              "      <td>S</td>\n",
              "      <td>Mr</td>\n",
              "      <td>Youth</td>\n",
              "      <td>low</td>\n",
              "    </tr>\n",
              "    <tr>\n",
              "      <th>1</th>\n",
              "      <td>1</td>\n",
              "      <td>1</td>\n",
              "      <td>female</td>\n",
              "      <td>1</td>\n",
              "      <td>0</td>\n",
              "      <td>C</td>\n",
              "      <td>Mrs</td>\n",
              "      <td>Adults</td>\n",
              "      <td>high</td>\n",
              "    </tr>\n",
              "    <tr>\n",
              "      <th>2</th>\n",
              "      <td>1</td>\n",
              "      <td>3</td>\n",
              "      <td>female</td>\n",
              "      <td>0</td>\n",
              "      <td>0</td>\n",
              "      <td>S</td>\n",
              "      <td>Miss</td>\n",
              "      <td>Youth</td>\n",
              "      <td>low</td>\n",
              "    </tr>\n",
              "    <tr>\n",
              "      <th>3</th>\n",
              "      <td>1</td>\n",
              "      <td>1</td>\n",
              "      <td>female</td>\n",
              "      <td>1</td>\n",
              "      <td>0</td>\n",
              "      <td>S</td>\n",
              "      <td>Mrs</td>\n",
              "      <td>Youth</td>\n",
              "      <td>high</td>\n",
              "    </tr>\n",
              "    <tr>\n",
              "      <th>4</th>\n",
              "      <td>0</td>\n",
              "      <td>3</td>\n",
              "      <td>male</td>\n",
              "      <td>0</td>\n",
              "      <td>0</td>\n",
              "      <td>S</td>\n",
              "      <td>Mr</td>\n",
              "      <td>Youth</td>\n",
              "      <td>low</td>\n",
              "    </tr>\n",
              "  </tbody>\n",
              "</table>\n",
              "</div>"
            ],
            "text/plain": [
              "   Survived  Pclass     Sex  SibSp  Parch Embarked title Age_cat Fare_cat\n",
              "0         0       3    male      1      0        S    Mr   Youth      low\n",
              "1         1       1  female      1      0        C   Mrs  Adults     high\n",
              "2         1       3  female      0      0        S  Miss   Youth      low\n",
              "3         1       1  female      1      0        S   Mrs   Youth     high\n",
              "4         0       3    male      0      0        S    Mr   Youth      low"
            ]
          },
          "metadata": {},
          "execution_count": 27
        }
      ]
    },
    {
      "cell_type": "code",
      "metadata": {
        "id": "nfDPNvzrDwIg"
      },
      "source": [
        "df_dummy_train = pd.get_dummies(df_train)\n",
        "df_dummy_test = pd.get_dummies(df_test)"
      ],
      "execution_count": 28,
      "outputs": []
    },
    {
      "cell_type": "code",
      "metadata": {
        "colab": {
          "base_uri": "https://localhost:8080/",
          "height": 224
        },
        "id": "UX6wMpJELMPQ",
        "outputId": "6e9bb021-93f6-48d9-9ebb-7b3f79d52ead"
      },
      "source": [
        "df_dummy_test.head()"
      ],
      "execution_count": 29,
      "outputs": [
        {
          "output_type": "execute_result",
          "data": {
            "text/html": [
              "<div>\n",
              "<style scoped>\n",
              "    .dataframe tbody tr th:only-of-type {\n",
              "        vertical-align: middle;\n",
              "    }\n",
              "\n",
              "    .dataframe tbody tr th {\n",
              "        vertical-align: top;\n",
              "    }\n",
              "\n",
              "    .dataframe thead th {\n",
              "        text-align: right;\n",
              "    }\n",
              "</style>\n",
              "<table border=\"1\" class=\"dataframe\">\n",
              "  <thead>\n",
              "    <tr style=\"text-align: right;\">\n",
              "      <th></th>\n",
              "      <th>Pclass</th>\n",
              "      <th>SibSp</th>\n",
              "      <th>Parch</th>\n",
              "      <th>Sex_female</th>\n",
              "      <th>Sex_male</th>\n",
              "      <th>Embarked_C</th>\n",
              "      <th>Embarked_Q</th>\n",
              "      <th>Embarked_S</th>\n",
              "      <th>title_Extra</th>\n",
              "      <th>title_Master</th>\n",
              "      <th>title_Miss</th>\n",
              "      <th>title_Mr</th>\n",
              "      <th>title_Mrs</th>\n",
              "      <th>Age_cat_Children</th>\n",
              "      <th>Age_cat_Youth</th>\n",
              "      <th>Age_cat_Adults</th>\n",
              "      <th>Age_cat_Seniors</th>\n",
              "      <th>Fare_cat_low</th>\n",
              "      <th>Fare_cat_medium</th>\n",
              "      <th>Fare_cat_high</th>\n",
              "    </tr>\n",
              "  </thead>\n",
              "  <tbody>\n",
              "    <tr>\n",
              "      <th>0</th>\n",
              "      <td>3</td>\n",
              "      <td>0</td>\n",
              "      <td>0</td>\n",
              "      <td>0</td>\n",
              "      <td>1</td>\n",
              "      <td>0</td>\n",
              "      <td>1</td>\n",
              "      <td>0</td>\n",
              "      <td>0</td>\n",
              "      <td>0</td>\n",
              "      <td>0</td>\n",
              "      <td>1</td>\n",
              "      <td>0</td>\n",
              "      <td>0</td>\n",
              "      <td>1</td>\n",
              "      <td>0</td>\n",
              "      <td>0</td>\n",
              "      <td>1</td>\n",
              "      <td>0</td>\n",
              "      <td>0</td>\n",
              "    </tr>\n",
              "    <tr>\n",
              "      <th>1</th>\n",
              "      <td>3</td>\n",
              "      <td>1</td>\n",
              "      <td>0</td>\n",
              "      <td>1</td>\n",
              "      <td>0</td>\n",
              "      <td>0</td>\n",
              "      <td>0</td>\n",
              "      <td>1</td>\n",
              "      <td>0</td>\n",
              "      <td>0</td>\n",
              "      <td>0</td>\n",
              "      <td>0</td>\n",
              "      <td>1</td>\n",
              "      <td>0</td>\n",
              "      <td>0</td>\n",
              "      <td>1</td>\n",
              "      <td>0</td>\n",
              "      <td>1</td>\n",
              "      <td>0</td>\n",
              "      <td>0</td>\n",
              "    </tr>\n",
              "    <tr>\n",
              "      <th>2</th>\n",
              "      <td>2</td>\n",
              "      <td>0</td>\n",
              "      <td>0</td>\n",
              "      <td>0</td>\n",
              "      <td>1</td>\n",
              "      <td>0</td>\n",
              "      <td>1</td>\n",
              "      <td>0</td>\n",
              "      <td>0</td>\n",
              "      <td>0</td>\n",
              "      <td>0</td>\n",
              "      <td>1</td>\n",
              "      <td>0</td>\n",
              "      <td>0</td>\n",
              "      <td>0</td>\n",
              "      <td>0</td>\n",
              "      <td>1</td>\n",
              "      <td>1</td>\n",
              "      <td>0</td>\n",
              "      <td>0</td>\n",
              "    </tr>\n",
              "    <tr>\n",
              "      <th>3</th>\n",
              "      <td>3</td>\n",
              "      <td>0</td>\n",
              "      <td>0</td>\n",
              "      <td>0</td>\n",
              "      <td>1</td>\n",
              "      <td>0</td>\n",
              "      <td>0</td>\n",
              "      <td>1</td>\n",
              "      <td>0</td>\n",
              "      <td>0</td>\n",
              "      <td>0</td>\n",
              "      <td>1</td>\n",
              "      <td>0</td>\n",
              "      <td>0</td>\n",
              "      <td>1</td>\n",
              "      <td>0</td>\n",
              "      <td>0</td>\n",
              "      <td>1</td>\n",
              "      <td>0</td>\n",
              "      <td>0</td>\n",
              "    </tr>\n",
              "    <tr>\n",
              "      <th>4</th>\n",
              "      <td>3</td>\n",
              "      <td>1</td>\n",
              "      <td>1</td>\n",
              "      <td>1</td>\n",
              "      <td>0</td>\n",
              "      <td>0</td>\n",
              "      <td>0</td>\n",
              "      <td>1</td>\n",
              "      <td>0</td>\n",
              "      <td>0</td>\n",
              "      <td>0</td>\n",
              "      <td>0</td>\n",
              "      <td>1</td>\n",
              "      <td>0</td>\n",
              "      <td>1</td>\n",
              "      <td>0</td>\n",
              "      <td>0</td>\n",
              "      <td>1</td>\n",
              "      <td>0</td>\n",
              "      <td>0</td>\n",
              "    </tr>\n",
              "  </tbody>\n",
              "</table>\n",
              "</div>"
            ],
            "text/plain": [
              "   Pclass  SibSp  Parch  ...  Fare_cat_low  Fare_cat_medium  Fare_cat_high\n",
              "0       3      0      0  ...             1                0              0\n",
              "1       3      1      0  ...             1                0              0\n",
              "2       2      0      0  ...             1                0              0\n",
              "3       3      0      0  ...             1                0              0\n",
              "4       3      1      1  ...             1                0              0\n",
              "\n",
              "[5 rows x 20 columns]"
            ]
          },
          "metadata": {},
          "execution_count": 29
        }
      ]
    },
    {
      "cell_type": "markdown",
      "metadata": {
        "id": "EhhNcQ4L6OZd"
      },
      "source": [
        "**Train Models**"
      ]
    },
    {
      "cell_type": "code",
      "metadata": {
        "id": "FT0GpkyVFjGD"
      },
      "source": [
        "Y_train = df_dummy_train['Survived']\n",
        "X_train = df_dummy_train.drop(['Survived'],axis=1)"
      ],
      "execution_count": 30,
      "outputs": []
    },
    {
      "cell_type": "code",
      "metadata": {
        "id": "MscODTxoLrXo"
      },
      "source": [
        "X_test = df_dummy_test"
      ],
      "execution_count": 31,
      "outputs": []
    },
    {
      "cell_type": "code",
      "metadata": {
        "colab": {
          "base_uri": "https://localhost:8080/",
          "height": 720
        },
        "id": "OLg0pDw9MxO1",
        "outputId": "a7224ceb-8f0f-4e46-a366-abd7f1e9f880"
      },
      "source": [
        "df_dummy_train.corr()"
      ],
      "execution_count": 32,
      "outputs": [
        {
          "output_type": "execute_result",
          "data": {
            "text/html": [
              "<div>\n",
              "<style scoped>\n",
              "    .dataframe tbody tr th:only-of-type {\n",
              "        vertical-align: middle;\n",
              "    }\n",
              "\n",
              "    .dataframe tbody tr th {\n",
              "        vertical-align: top;\n",
              "    }\n",
              "\n",
              "    .dataframe thead th {\n",
              "        text-align: right;\n",
              "    }\n",
              "</style>\n",
              "<table border=\"1\" class=\"dataframe\">\n",
              "  <thead>\n",
              "    <tr style=\"text-align: right;\">\n",
              "      <th></th>\n",
              "      <th>Survived</th>\n",
              "      <th>Pclass</th>\n",
              "      <th>SibSp</th>\n",
              "      <th>Parch</th>\n",
              "      <th>Sex_female</th>\n",
              "      <th>Sex_male</th>\n",
              "      <th>Embarked_C</th>\n",
              "      <th>Embarked_Q</th>\n",
              "      <th>Embarked_S</th>\n",
              "      <th>title_Extra</th>\n",
              "      <th>title_Master</th>\n",
              "      <th>title_Miss</th>\n",
              "      <th>title_Mr</th>\n",
              "      <th>title_Mrs</th>\n",
              "      <th>Age_cat_Children</th>\n",
              "      <th>Age_cat_Youth</th>\n",
              "      <th>Age_cat_Adults</th>\n",
              "      <th>Age_cat_Seniors</th>\n",
              "      <th>Fare_cat_low</th>\n",
              "      <th>Fare_cat_medium</th>\n",
              "      <th>Fare_cat_high</th>\n",
              "    </tr>\n",
              "  </thead>\n",
              "  <tbody>\n",
              "    <tr>\n",
              "      <th>Survived</th>\n",
              "      <td>1.000000</td>\n",
              "      <td>-0.337040</td>\n",
              "      <td>-0.046948</td>\n",
              "      <td>0.062922</td>\n",
              "      <td>0.515966</td>\n",
              "      <td>-0.515966</td>\n",
              "      <td>0.169391</td>\n",
              "      <td>-0.037920</td>\n",
              "      <td>-0.129637</td>\n",
              "      <td>0.002264</td>\n",
              "      <td>0.068769</td>\n",
              "      <td>0.295930</td>\n",
              "      <td>-0.515548</td>\n",
              "      <td>0.328016</td>\n",
              "      <td>0.117643</td>\n",
              "      <td>-0.039888</td>\n",
              "      <td>-0.013596</td>\n",
              "      <td>-0.051181</td>\n",
              "      <td>-0.239530</td>\n",
              "      <td>0.030874</td>\n",
              "      <td>0.281440</td>\n",
              "    </tr>\n",
              "    <tr>\n",
              "      <th>Pclass</th>\n",
              "      <td>-0.337040</td>\n",
              "      <td>1.000000</td>\n",
              "      <td>0.096449</td>\n",
              "      <td>0.044928</td>\n",
              "      <td>-0.111916</td>\n",
              "      <td>0.111916</td>\n",
              "      <td>-0.250873</td>\n",
              "      <td>0.210330</td>\n",
              "      <td>0.101534</td>\n",
              "      <td>-0.195576</td>\n",
              "      <td>0.101125</td>\n",
              "      <td>0.004610</td>\n",
              "      <td>0.115833</td>\n",
              "      <td>-0.126947</td>\n",
              "      <td>0.153784</td>\n",
              "      <td>0.193118</td>\n",
              "      <td>-0.238885</td>\n",
              "      <td>-0.189710</td>\n",
              "      <td>0.573910</td>\n",
              "      <td>-0.059823</td>\n",
              "      <td>-0.639286</td>\n",
              "    </tr>\n",
              "    <tr>\n",
              "      <th>SibSp</th>\n",
              "      <td>-0.046948</td>\n",
              "      <td>0.096449</td>\n",
              "      <td>1.000000</td>\n",
              "      <td>0.382259</td>\n",
              "      <td>0.082662</td>\n",
              "      <td>-0.082662</td>\n",
              "      <td>-0.067516</td>\n",
              "      <td>0.000662</td>\n",
              "      <td>0.060151</td>\n",
              "      <td>-0.042508</td>\n",
              "      <td>0.402600</td>\n",
              "      <td>0.048201</td>\n",
              "      <td>-0.247873</td>\n",
              "      <td>0.063440</td>\n",
              "      <td>0.399675</td>\n",
              "      <td>-0.150219</td>\n",
              "      <td>-0.074651</td>\n",
              "      <td>-0.087087</td>\n",
              "      <td>-0.362472</td>\n",
              "      <td>0.291592</td>\n",
              "      <td>0.122792</td>\n",
              "    </tr>\n",
              "    <tr>\n",
              "      <th>Parch</th>\n",
              "      <td>0.062922</td>\n",
              "      <td>0.044928</td>\n",
              "      <td>0.382259</td>\n",
              "      <td>1.000000</td>\n",
              "      <td>0.228108</td>\n",
              "      <td>-0.228108</td>\n",
              "      <td>-0.024724</td>\n",
              "      <td>-0.065913</td>\n",
              "      <td>0.060846</td>\n",
              "      <td>-0.077054</td>\n",
              "      <td>0.262603</td>\n",
              "      <td>0.085821</td>\n",
              "      <td>-0.317756</td>\n",
              "      <td>0.217232</td>\n",
              "      <td>0.344899</td>\n",
              "      <td>-0.253422</td>\n",
              "      <td>0.057107</td>\n",
              "      <td>-0.032062</td>\n",
              "      <td>-0.361440</td>\n",
              "      <td>0.339859</td>\n",
              "      <td>0.063447</td>\n",
              "    </tr>\n",
              "    <tr>\n",
              "      <th>Sex_female</th>\n",
              "      <td>0.515966</td>\n",
              "      <td>-0.111916</td>\n",
              "      <td>0.082662</td>\n",
              "      <td>0.228108</td>\n",
              "      <td>1.000000</td>\n",
              "      <td>-1.000000</td>\n",
              "      <td>0.082456</td>\n",
              "      <td>0.043790</td>\n",
              "      <td>-0.099631</td>\n",
              "      <td>-0.057691</td>\n",
              "      <td>-0.180901</td>\n",
              "      <td>0.664795</td>\n",
              "      <td>-0.854436</td>\n",
              "      <td>0.555099</td>\n",
              "      <td>0.093260</td>\n",
              "      <td>-0.011186</td>\n",
              "      <td>-0.018446</td>\n",
              "      <td>-0.071281</td>\n",
              "      <td>-0.164310</td>\n",
              "      <td>0.045066</td>\n",
              "      <td>0.175180</td>\n",
              "    </tr>\n",
              "    <tr>\n",
              "      <th>Sex_male</th>\n",
              "      <td>-0.515966</td>\n",
              "      <td>0.111916</td>\n",
              "      <td>-0.082662</td>\n",
              "      <td>-0.228108</td>\n",
              "      <td>-1.000000</td>\n",
              "      <td>1.000000</td>\n",
              "      <td>-0.082456</td>\n",
              "      <td>-0.043790</td>\n",
              "      <td>0.099631</td>\n",
              "      <td>0.057691</td>\n",
              "      <td>0.180901</td>\n",
              "      <td>-0.664795</td>\n",
              "      <td>0.854436</td>\n",
              "      <td>-0.555099</td>\n",
              "      <td>-0.093260</td>\n",
              "      <td>0.011186</td>\n",
              "      <td>0.018446</td>\n",
              "      <td>0.071281</td>\n",
              "      <td>0.164310</td>\n",
              "      <td>-0.045066</td>\n",
              "      <td>-0.175180</td>\n",
              "    </tr>\n",
              "    <tr>\n",
              "      <th>Embarked_C</th>\n",
              "      <td>0.169391</td>\n",
              "      <td>-0.250873</td>\n",
              "      <td>-0.067516</td>\n",
              "      <td>-0.024724</td>\n",
              "      <td>0.082456</td>\n",
              "      <td>-0.082456</td>\n",
              "      <td>1.000000</td>\n",
              "      <td>-0.140945</td>\n",
              "      <td>-0.813966</td>\n",
              "      <td>0.050553</td>\n",
              "      <td>-0.055943</td>\n",
              "      <td>0.032305</td>\n",
              "      <td>-0.062354</td>\n",
              "      <td>0.057249</td>\n",
              "      <td>0.006759</td>\n",
              "      <td>-0.015703</td>\n",
              "      <td>-0.011741</td>\n",
              "      <td>0.047661</td>\n",
              "      <td>-0.162863</td>\n",
              "      <td>-0.019652</td>\n",
              "      <td>0.241931</td>\n",
              "    </tr>\n",
              "    <tr>\n",
              "      <th>Embarked_Q</th>\n",
              "      <td>-0.037920</td>\n",
              "      <td>0.210330</td>\n",
              "      <td>0.000662</td>\n",
              "      <td>-0.065913</td>\n",
              "      <td>0.043790</td>\n",
              "      <td>-0.043790</td>\n",
              "      <td>-0.140945</td>\n",
              "      <td>1.000000</td>\n",
              "      <td>-0.460389</td>\n",
              "      <td>0.002205</td>\n",
              "      <td>0.025342</td>\n",
              "      <td>0.130711</td>\n",
              "      <td>-0.059029</td>\n",
              "      <td>-0.082313</td>\n",
              "      <td>-0.016951</td>\n",
              "      <td>0.099023</td>\n",
              "      <td>-0.104221</td>\n",
              "      <td>0.002725</td>\n",
              "      <td>0.130161</td>\n",
              "      <td>-0.033507</td>\n",
              "      <td>-0.114887</td>\n",
              "    </tr>\n",
              "    <tr>\n",
              "      <th>Embarked_S</th>\n",
              "      <td>-0.129637</td>\n",
              "      <td>0.101534</td>\n",
              "      <td>0.060151</td>\n",
              "      <td>0.060846</td>\n",
              "      <td>-0.099631</td>\n",
              "      <td>0.099631</td>\n",
              "      <td>-0.813966</td>\n",
              "      <td>-0.460389</td>\n",
              "      <td>1.000000</td>\n",
              "      <td>-0.046623</td>\n",
              "      <td>0.035292</td>\n",
              "      <td>-0.105664</td>\n",
              "      <td>0.090547</td>\n",
              "      <td>-0.003035</td>\n",
              "      <td>0.003886</td>\n",
              "      <td>-0.044024</td>\n",
              "      <td>0.071681</td>\n",
              "      <td>-0.044335</td>\n",
              "      <td>0.069660</td>\n",
              "      <td>0.037282</td>\n",
              "      <td>-0.149519</td>\n",
              "    </tr>\n",
              "    <tr>\n",
              "      <th>title_Extra</th>\n",
              "      <td>0.002264</td>\n",
              "      <td>-0.195576</td>\n",
              "      <td>-0.042508</td>\n",
              "      <td>-0.077054</td>\n",
              "      <td>-0.057691</td>\n",
              "      <td>0.057691</td>\n",
              "      <td>0.050553</td>\n",
              "      <td>0.002205</td>\n",
              "      <td>-0.046623</td>\n",
              "      <td>1.000000</td>\n",
              "      <td>-0.043062</td>\n",
              "      <td>-0.097334</td>\n",
              "      <td>-0.203393</td>\n",
              "      <td>-0.081273</td>\n",
              "      <td>-0.064358</td>\n",
              "      <td>-0.104963</td>\n",
              "      <td>0.123527</td>\n",
              "      <td>0.088078</td>\n",
              "      <td>-0.069523</td>\n",
              "      <td>0.049278</td>\n",
              "      <td>0.015905</td>\n",
              "    </tr>\n",
              "    <tr>\n",
              "      <th>title_Master</th>\n",
              "      <td>0.068769</td>\n",
              "      <td>0.101125</td>\n",
              "      <td>0.402600</td>\n",
              "      <td>0.262603</td>\n",
              "      <td>-0.180901</td>\n",
              "      <td>0.180901</td>\n",
              "      <td>-0.055943</td>\n",
              "      <td>0.025342</td>\n",
              "      <td>0.035292</td>\n",
              "      <td>-0.043062</td>\n",
              "      <td>1.000000</td>\n",
              "      <td>-0.120262</td>\n",
              "      <td>-0.251304</td>\n",
              "      <td>-0.100418</td>\n",
              "      <td>0.611524</td>\n",
              "      <td>-0.257577</td>\n",
              "      <td>-0.123962</td>\n",
              "      <td>-0.053206</td>\n",
              "      <td>-0.151227</td>\n",
              "      <td>0.211060</td>\n",
              "      <td>-0.054716</td>\n",
              "    </tr>\n",
              "    <tr>\n",
              "      <th>title_Miss</th>\n",
              "      <td>0.295930</td>\n",
              "      <td>0.004610</td>\n",
              "      <td>0.048201</td>\n",
              "      <td>0.085821</td>\n",
              "      <td>0.664795</td>\n",
              "      <td>-0.664795</td>\n",
              "      <td>0.032305</td>\n",
              "      <td>0.130711</td>\n",
              "      <td>-0.105664</td>\n",
              "      <td>-0.097334</td>\n",
              "      <td>-0.120262</td>\n",
              "      <td>1.000000</td>\n",
              "      <td>-0.568025</td>\n",
              "      <td>-0.226975</td>\n",
              "      <td>0.230479</td>\n",
              "      <td>0.024967</td>\n",
              "      <td>-0.158948</td>\n",
              "      <td>-0.076979</td>\n",
              "      <td>0.012568</td>\n",
              "      <td>-0.057298</td>\n",
              "      <td>0.067646</td>\n",
              "    </tr>\n",
              "    <tr>\n",
              "      <th>title_Mr</th>\n",
              "      <td>-0.515548</td>\n",
              "      <td>0.115833</td>\n",
              "      <td>-0.247873</td>\n",
              "      <td>-0.317756</td>\n",
              "      <td>-0.854436</td>\n",
              "      <td>0.854436</td>\n",
              "      <td>-0.062354</td>\n",
              "      <td>-0.059029</td>\n",
              "      <td>0.090547</td>\n",
              "      <td>-0.203393</td>\n",
              "      <td>-0.251304</td>\n",
              "      <td>-0.568025</td>\n",
              "      <td>1.000000</td>\n",
              "      <td>-0.474296</td>\n",
              "      <td>-0.341824</td>\n",
              "      <td>0.163679</td>\n",
              "      <td>0.031833</td>\n",
              "      <td>0.057378</td>\n",
              "      <td>0.242798</td>\n",
              "      <td>-0.149175</td>\n",
              "      <td>-0.147109</td>\n",
              "    </tr>\n",
              "    <tr>\n",
              "      <th>title_Mrs</th>\n",
              "      <td>0.328016</td>\n",
              "      <td>-0.126947</td>\n",
              "      <td>0.063440</td>\n",
              "      <td>0.217232</td>\n",
              "      <td>0.555099</td>\n",
              "      <td>-0.555099</td>\n",
              "      <td>0.057249</td>\n",
              "      <td>-0.082313</td>\n",
              "      <td>-0.003035</td>\n",
              "      <td>-0.081273</td>\n",
              "      <td>-0.100418</td>\n",
              "      <td>-0.226975</td>\n",
              "      <td>-0.474296</td>\n",
              "      <td>1.000000</td>\n",
              "      <td>-0.127102</td>\n",
              "      <td>-0.044885</td>\n",
              "      <td>0.148001</td>\n",
              "      <td>-0.003454</td>\n",
              "      <td>-0.219805</td>\n",
              "      <td>0.116641</td>\n",
              "      <td>0.149375</td>\n",
              "    </tr>\n",
              "    <tr>\n",
              "      <th>Age_cat_Children</th>\n",
              "      <td>0.117643</td>\n",
              "      <td>0.153784</td>\n",
              "      <td>0.399675</td>\n",
              "      <td>0.344899</td>\n",
              "      <td>0.093260</td>\n",
              "      <td>-0.093260</td>\n",
              "      <td>0.006759</td>\n",
              "      <td>-0.016951</td>\n",
              "      <td>0.003886</td>\n",
              "      <td>-0.064358</td>\n",
              "      <td>0.611524</td>\n",
              "      <td>0.230479</td>\n",
              "      <td>-0.341824</td>\n",
              "      <td>-0.127102</td>\n",
              "      <td>1.000000</td>\n",
              "      <td>-0.439565</td>\n",
              "      <td>-0.185264</td>\n",
              "      <td>-0.079517</td>\n",
              "      <td>-0.162799</td>\n",
              "      <td>0.270272</td>\n",
              "      <td>-0.107256</td>\n",
              "    </tr>\n",
              "    <tr>\n",
              "      <th>Age_cat_Youth</th>\n",
              "      <td>-0.039888</td>\n",
              "      <td>0.193118</td>\n",
              "      <td>-0.150219</td>\n",
              "      <td>-0.253422</td>\n",
              "      <td>-0.011186</td>\n",
              "      <td>0.011186</td>\n",
              "      <td>-0.015703</td>\n",
              "      <td>0.099023</td>\n",
              "      <td>-0.044024</td>\n",
              "      <td>-0.104963</td>\n",
              "      <td>-0.257577</td>\n",
              "      <td>0.024967</td>\n",
              "      <td>0.163679</td>\n",
              "      <td>-0.044885</td>\n",
              "      <td>-0.439565</td>\n",
              "      <td>1.000000</td>\n",
              "      <td>-0.685251</td>\n",
              "      <td>-0.294117</td>\n",
              "      <td>0.250024</td>\n",
              "      <td>-0.186173</td>\n",
              "      <td>-0.081264</td>\n",
              "    </tr>\n",
              "    <tr>\n",
              "      <th>Age_cat_Adults</th>\n",
              "      <td>-0.013596</td>\n",
              "      <td>-0.238885</td>\n",
              "      <td>-0.074651</td>\n",
              "      <td>0.057107</td>\n",
              "      <td>-0.018446</td>\n",
              "      <td>0.018446</td>\n",
              "      <td>-0.011741</td>\n",
              "      <td>-0.104221</td>\n",
              "      <td>0.071681</td>\n",
              "      <td>0.123527</td>\n",
              "      <td>-0.123962</td>\n",
              "      <td>-0.158948</td>\n",
              "      <td>0.031833</td>\n",
              "      <td>0.148001</td>\n",
              "      <td>-0.185264</td>\n",
              "      <td>-0.685251</td>\n",
              "      <td>1.000000</td>\n",
              "      <td>-0.123962</td>\n",
              "      <td>-0.141346</td>\n",
              "      <td>0.004836</td>\n",
              "      <td>0.147943</td>\n",
              "    </tr>\n",
              "    <tr>\n",
              "      <th>Age_cat_Seniors</th>\n",
              "      <td>-0.051181</td>\n",
              "      <td>-0.189710</td>\n",
              "      <td>-0.087087</td>\n",
              "      <td>-0.032062</td>\n",
              "      <td>-0.071281</td>\n",
              "      <td>0.071281</td>\n",
              "      <td>0.047661</td>\n",
              "      <td>0.002725</td>\n",
              "      <td>-0.044335</td>\n",
              "      <td>0.088078</td>\n",
              "      <td>-0.053206</td>\n",
              "      <td>-0.076979</td>\n",
              "      <td>0.057378</td>\n",
              "      <td>-0.003454</td>\n",
              "      <td>-0.079517</td>\n",
              "      <td>-0.294117</td>\n",
              "      <td>-0.123962</td>\n",
              "      <td>1.000000</td>\n",
              "      <td>-0.056204</td>\n",
              "      <td>0.023343</td>\n",
              "      <td>0.049399</td>\n",
              "    </tr>\n",
              "    <tr>\n",
              "      <th>Fare_cat_low</th>\n",
              "      <td>-0.239530</td>\n",
              "      <td>0.573910</td>\n",
              "      <td>-0.362472</td>\n",
              "      <td>-0.361440</td>\n",
              "      <td>-0.164310</td>\n",
              "      <td>0.164310</td>\n",
              "      <td>-0.162863</td>\n",
              "      <td>0.130161</td>\n",
              "      <td>0.069660</td>\n",
              "      <td>-0.069523</td>\n",
              "      <td>-0.151227</td>\n",
              "      <td>0.012568</td>\n",
              "      <td>0.242798</td>\n",
              "      <td>-0.219805</td>\n",
              "      <td>-0.162799</td>\n",
              "      <td>0.250024</td>\n",
              "      <td>-0.141346</td>\n",
              "      <td>-0.056204</td>\n",
              "      <td>1.000000</td>\n",
              "      <td>-0.650675</td>\n",
              "      <td>-0.452104</td>\n",
              "    </tr>\n",
              "    <tr>\n",
              "      <th>Fare_cat_medium</th>\n",
              "      <td>0.030874</td>\n",
              "      <td>-0.059823</td>\n",
              "      <td>0.291592</td>\n",
              "      <td>0.339859</td>\n",
              "      <td>0.045066</td>\n",
              "      <td>-0.045066</td>\n",
              "      <td>-0.019652</td>\n",
              "      <td>-0.033507</td>\n",
              "      <td>0.037282</td>\n",
              "      <td>0.049278</td>\n",
              "      <td>0.211060</td>\n",
              "      <td>-0.057298</td>\n",
              "      <td>-0.149175</td>\n",
              "      <td>0.116641</td>\n",
              "      <td>0.270272</td>\n",
              "      <td>-0.186173</td>\n",
              "      <td>0.004836</td>\n",
              "      <td>0.023343</td>\n",
              "      <td>-0.650675</td>\n",
              "      <td>1.000000</td>\n",
              "      <td>-0.352840</td>\n",
              "    </tr>\n",
              "    <tr>\n",
              "      <th>Fare_cat_high</th>\n",
              "      <td>0.281440</td>\n",
              "      <td>-0.639286</td>\n",
              "      <td>0.122792</td>\n",
              "      <td>0.063447</td>\n",
              "      <td>0.175180</td>\n",
              "      <td>-0.175180</td>\n",
              "      <td>0.241931</td>\n",
              "      <td>-0.114887</td>\n",
              "      <td>-0.149519</td>\n",
              "      <td>0.015905</td>\n",
              "      <td>-0.054716</td>\n",
              "      <td>0.067646</td>\n",
              "      <td>-0.147109</td>\n",
              "      <td>0.149375</td>\n",
              "      <td>-0.107256</td>\n",
              "      <td>-0.081264</td>\n",
              "      <td>0.147943</td>\n",
              "      <td>0.049399</td>\n",
              "      <td>-0.452104</td>\n",
              "      <td>-0.352840</td>\n",
              "      <td>1.000000</td>\n",
              "    </tr>\n",
              "  </tbody>\n",
              "</table>\n",
              "</div>"
            ],
            "text/plain": [
              "                  Survived    Pclass  ...  Fare_cat_medium  Fare_cat_high\n",
              "Survived          1.000000 -0.337040  ...         0.030874       0.281440\n",
              "Pclass           -0.337040  1.000000  ...        -0.059823      -0.639286\n",
              "SibSp            -0.046948  0.096449  ...         0.291592       0.122792\n",
              "Parch             0.062922  0.044928  ...         0.339859       0.063447\n",
              "Sex_female        0.515966 -0.111916  ...         0.045066       0.175180\n",
              "Sex_male         -0.515966  0.111916  ...        -0.045066      -0.175180\n",
              "Embarked_C        0.169391 -0.250873  ...        -0.019652       0.241931\n",
              "Embarked_Q       -0.037920  0.210330  ...        -0.033507      -0.114887\n",
              "Embarked_S       -0.129637  0.101534  ...         0.037282      -0.149519\n",
              "title_Extra       0.002264 -0.195576  ...         0.049278       0.015905\n",
              "title_Master      0.068769  0.101125  ...         0.211060      -0.054716\n",
              "title_Miss        0.295930  0.004610  ...        -0.057298       0.067646\n",
              "title_Mr         -0.515548  0.115833  ...        -0.149175      -0.147109\n",
              "title_Mrs         0.328016 -0.126947  ...         0.116641       0.149375\n",
              "Age_cat_Children  0.117643  0.153784  ...         0.270272      -0.107256\n",
              "Age_cat_Youth    -0.039888  0.193118  ...        -0.186173      -0.081264\n",
              "Age_cat_Adults   -0.013596 -0.238885  ...         0.004836       0.147943\n",
              "Age_cat_Seniors  -0.051181 -0.189710  ...         0.023343       0.049399\n",
              "Fare_cat_low     -0.239530  0.573910  ...        -0.650675      -0.452104\n",
              "Fare_cat_medium   0.030874 -0.059823  ...         1.000000      -0.352840\n",
              "Fare_cat_high     0.281440 -0.639286  ...        -0.352840       1.000000\n",
              "\n",
              "[21 rows x 21 columns]"
            ]
          },
          "metadata": {},
          "execution_count": 32
        }
      ]
    },
    {
      "cell_type": "code",
      "metadata": {
        "colab": {
          "base_uri": "https://localhost:8080/"
        },
        "id": "lLiA2iQOGAm-",
        "outputId": "0ddccc2a-5f09-4856-c474-9d7d06fd17c7"
      },
      "source": [
        "print(Y_train.head())\n",
        "print('--'*20)\n",
        "print(X_train.head())"
      ],
      "execution_count": 33,
      "outputs": [
        {
          "output_type": "stream",
          "name": "stdout",
          "text": [
            "0    0\n",
            "1    1\n",
            "2    1\n",
            "3    1\n",
            "4    0\n",
            "Name: Survived, dtype: int64\n",
            "----------------------------------------\n",
            "   Pclass  SibSp  Parch  ...  Fare_cat_low  Fare_cat_medium  Fare_cat_high\n",
            "0       3      1      0  ...             1                0              0\n",
            "1       1      1      0  ...             0                0              1\n",
            "2       3      0      0  ...             1                0              0\n",
            "3       1      1      0  ...             0                0              1\n",
            "4       3      0      0  ...             1                0              0\n",
            "\n",
            "[5 rows x 20 columns]\n"
          ]
        }
      ]
    },
    {
      "cell_type": "code",
      "metadata": {
        "id": "SmsorQRsl1k5"
      },
      "source": [
        "from sklearn.linear_model import LogisticRegression\n",
        "from sklearn.tree import DecisionTreeClassifier\n",
        "from sklearn.svm import SVC\n",
        "from sklearn.ensemble import RandomForestClassifier\n",
        "from sklearn.neighbors import KNeighborsClassifier"
      ],
      "execution_count": 34,
      "outputs": []
    },
    {
      "cell_type": "code",
      "metadata": {
        "colab": {
          "base_uri": "https://localhost:8080/"
        },
        "id": "ImFPN69aG-o5",
        "outputId": "0522d711-2c04-4781-ad51-1179f51eb266"
      },
      "source": [
        "logi = LogisticRegression()\n",
        "logi.fit(X_train,Y_train)\n",
        "logi.predict(X_test)\n",
        "\n",
        "print(logi.score(X_train,Y_train)*100)"
      ],
      "execution_count": 35,
      "outputs": [
        {
          "output_type": "stream",
          "name": "stdout",
          "text": [
            "81.34715025906736\n"
          ]
        }
      ]
    },
    {
      "cell_type": "code",
      "metadata": {
        "colab": {
          "base_uri": "https://localhost:8080/"
        },
        "id": "LAxcQyl6a_t3",
        "outputId": "7eb24f1a-7e9b-475e-c7dd-7c22cf61e8da"
      },
      "source": [
        "knn = KNeighborsClassifier(n_neighbors = 5)\n",
        "knn.fit(X_train, Y_train)\n",
        "Y_hat = knn.predict(X_test)\n",
        "print(knn.score(X_train, Y_train) * 100)"
      ],
      "execution_count": 36,
      "outputs": [
        {
          "output_type": "stream",
          "name": "stdout",
          "text": [
            "81.73575129533678\n"
          ]
        }
      ]
    },
    {
      "cell_type": "code",
      "metadata": {
        "colab": {
          "base_uri": "https://localhost:8080/"
        },
        "id": "HmTWoAk1dK-q",
        "outputId": "83797b1a-b615-4a0c-b554-c266d4073155"
      },
      "source": [
        "rf = RandomForestClassifier(n_estimators=50)\n",
        "rf.fit(X_train, Y_train)\n",
        "Y_hat = rf.predict(X_test)\n",
        "print(rf.score(X_train, Y_train) * 100)"
      ],
      "execution_count": 37,
      "outputs": [
        {
          "output_type": "stream",
          "name": "stdout",
          "text": [
            "86.52849740932642\n"
          ]
        }
      ]
    },
    {
      "cell_type": "code",
      "metadata": {
        "colab": {
          "base_uri": "https://localhost:8080/"
        },
        "id": "EMUkzDYYbuhn",
        "outputId": "cd915feb-086d-4314-cc69-d8d2e0e0819f"
      },
      "source": [
        "decision_tree = DecisionTreeClassifier()\n",
        "decision_tree.fit(X_train, Y_train)\n",
        "Y_hat = decision_tree.predict(X_test)\n",
        "print(decision_tree.score(X_train, Y_train) * 100)"
      ],
      "execution_count": 38,
      "outputs": [
        {
          "output_type": "stream",
          "name": "stdout",
          "text": [
            "86.52849740932642\n"
          ]
        }
      ]
    },
    {
      "cell_type": "code",
      "metadata": {
        "colab": {
          "base_uri": "https://localhost:8080/"
        },
        "id": "VJIDvnybdH9V",
        "outputId": "04340f19-c11d-4292-efa5-58efc12f7a35"
      },
      "source": [
        "svc = SVC()\n",
        "svc.fit(X_train, Y_train)\n",
        "Y_hat = svc.predict(X_test)\n",
        "print(svc.score(X_train, Y_train) * 100)"
      ],
      "execution_count": 39,
      "outputs": [
        {
          "output_type": "stream",
          "name": "stdout",
          "text": [
            "81.60621761658031\n"
          ]
        }
      ]
    },
    {
      "cell_type": "markdown",
      "metadata": {
        "id": "-MWOKtM26oum"
      },
      "source": [
        "Decision tree and random forest has same score value and it is highest score among other models"
      ]
    },
    {
      "cell_type": "markdown",
      "metadata": {
        "id": "QAlzVuTMdR6o"
      },
      "source": [
        "Confution matrix"
      ]
    },
    {
      "cell_type": "code",
      "metadata": {
        "id": "jgLRx5M2e3xV"
      },
      "source": [
        "df_train['DT'] = decision_tree.predict(X_train)\n",
        "df_train['RF'] = rf.predict(X_train)"
      ],
      "execution_count": 40,
      "outputs": []
    },
    {
      "cell_type": "code",
      "metadata": {
        "colab": {
          "base_uri": "https://localhost:8080/",
          "height": 142
        },
        "id": "ScqIcDEjdQKI",
        "outputId": "d5187e19-3a8d-4d96-e6d3-785323187f66"
      },
      "source": [
        "pd.crosstab(df_train['DT'],df_train['Survived'])"
      ],
      "execution_count": 41,
      "outputs": [
        {
          "output_type": "execute_result",
          "data": {
            "text/html": [
              "<div>\n",
              "<style scoped>\n",
              "    .dataframe tbody tr th:only-of-type {\n",
              "        vertical-align: middle;\n",
              "    }\n",
              "\n",
              "    .dataframe tbody tr th {\n",
              "        vertical-align: top;\n",
              "    }\n",
              "\n",
              "    .dataframe thead th {\n",
              "        text-align: right;\n",
              "    }\n",
              "</style>\n",
              "<table border=\"1\" class=\"dataframe\">\n",
              "  <thead>\n",
              "    <tr style=\"text-align: right;\">\n",
              "      <th>Survived</th>\n",
              "      <th>0</th>\n",
              "      <th>1</th>\n",
              "    </tr>\n",
              "    <tr>\n",
              "      <th>DT</th>\n",
              "      <th></th>\n",
              "      <th></th>\n",
              "    </tr>\n",
              "  </thead>\n",
              "  <tbody>\n",
              "    <tr>\n",
              "      <th>0</th>\n",
              "      <td>428</td>\n",
              "      <td>82</td>\n",
              "    </tr>\n",
              "    <tr>\n",
              "      <th>1</th>\n",
              "      <td>22</td>\n",
              "      <td>240</td>\n",
              "    </tr>\n",
              "  </tbody>\n",
              "</table>\n",
              "</div>"
            ],
            "text/plain": [
              "Survived    0    1\n",
              "DT                \n",
              "0         428   82\n",
              "1          22  240"
            ]
          },
          "metadata": {},
          "execution_count": 41
        }
      ]
    },
    {
      "cell_type": "code",
      "metadata": {
        "colab": {
          "base_uri": "https://localhost:8080/",
          "height": 142
        },
        "id": "VWwYVuiQd7fR",
        "outputId": "43473de5-ecb4-49f0-9db6-835ea3e66ed8"
      },
      "source": [
        "pd.crosstab(df_train['Survived'],df_train['RF'],)"
      ],
      "execution_count": 42,
      "outputs": [
        {
          "output_type": "execute_result",
          "data": {
            "text/html": [
              "<div>\n",
              "<style scoped>\n",
              "    .dataframe tbody tr th:only-of-type {\n",
              "        vertical-align: middle;\n",
              "    }\n",
              "\n",
              "    .dataframe tbody tr th {\n",
              "        vertical-align: top;\n",
              "    }\n",
              "\n",
              "    .dataframe thead th {\n",
              "        text-align: right;\n",
              "    }\n",
              "</style>\n",
              "<table border=\"1\" class=\"dataframe\">\n",
              "  <thead>\n",
              "    <tr style=\"text-align: right;\">\n",
              "      <th>RF</th>\n",
              "      <th>0</th>\n",
              "      <th>1</th>\n",
              "    </tr>\n",
              "    <tr>\n",
              "      <th>Survived</th>\n",
              "      <th></th>\n",
              "      <th></th>\n",
              "    </tr>\n",
              "  </thead>\n",
              "  <tbody>\n",
              "    <tr>\n",
              "      <th>0</th>\n",
              "      <td>417</td>\n",
              "      <td>33</td>\n",
              "    </tr>\n",
              "    <tr>\n",
              "      <th>1</th>\n",
              "      <td>71</td>\n",
              "      <td>251</td>\n",
              "    </tr>\n",
              "  </tbody>\n",
              "</table>\n",
              "</div>"
            ],
            "text/plain": [
              "RF          0    1\n",
              "Survived          \n",
              "0         417   33\n",
              "1          71  251"
            ]
          },
          "metadata": {},
          "execution_count": 42
        }
      ]
    },
    {
      "cell_type": "code",
      "metadata": {
        "id": "rHBRQFDujQwL"
      },
      "source": [
        "from sklearn.metrics import confusion_matrix\n",
        "Rf_cm = confusion_matrix(df_train['Survived'],df_train['RF'])\n",
        "DT_cm = confusion_matrix(df_train['Survived'],df_train['DT'])"
      ],
      "execution_count": 43,
      "outputs": []
    },
    {
      "cell_type": "code",
      "metadata": {
        "id": "Ikh3Io5DjquH"
      },
      "source": [
        "tn, fp, fn, tp = Rf_cm.ravel()\n",
        "\n",
        "RF_PPV = tp/(tp+fp)"
      ],
      "execution_count": 44,
      "outputs": []
    },
    {
      "cell_type": "code",
      "metadata": {
        "id": "G6zlRPJi72B8"
      },
      "source": [
        "tn, fp, fn, tp = DT_cm.ravel()\n",
        "DT_PPV = tp/(tp+fp)"
      ],
      "execution_count": 45,
      "outputs": []
    },
    {
      "cell_type": "code",
      "metadata": {
        "colab": {
          "base_uri": "https://localhost:8080/"
        },
        "id": "WBFSxbVt-iVA",
        "outputId": "bb76ab6e-a566-44cd-cbaf-f461e3e67eb3"
      },
      "source": [
        "print('Decision Tree PVV:',DT_PPV*100)\n",
        "print('Random forest PVV:',RF_PPV*100)"
      ],
      "execution_count": 46,
      "outputs": [
        {
          "output_type": "stream",
          "name": "stdout",
          "text": [
            "Decision Tree PVV: 91.6030534351145\n",
            "Random forest PVV: 88.38028169014085\n"
          ]
        }
      ]
    },
    {
      "cell_type": "markdown",
      "metadata": {
        "id": "_5qxizbi_MXe"
      },
      "source": [
        "Here we can see, we get higher precision in Decision Tree. so i am choosing decision_tree model to predict survived passangers."
      ]
    },
    {
      "cell_type": "code",
      "metadata": {
        "id": "_rVcwAVZ_iZ9"
      },
      "source": [
        "pridicted_survived =  decision_tree.predict(X_test)"
      ],
      "execution_count": 47,
      "outputs": []
    }
  ]
}